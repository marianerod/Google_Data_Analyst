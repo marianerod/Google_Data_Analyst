{
 "cells": [
  {
   "cell_type": "markdown",
   "id": "9060466d",
   "metadata": {},
   "source": [
    "## Principais Habilidades de Analistas de Dados\n",
    "\n",
    "Ao aprender algo novo, às vezes as pessoas negligenciam as próprias habilidades, mas é importante que você reserve um tempo para reconhecê-las, especialmente porque essas habilidades vão ajudar você como analista de dados. Na verdade, você provavelmente tenha mais preparo do que pensa. \n",
    "\n",
    ">**Habilidades analíticas** são qualidades e características associadas à resolução de problemas com o uso de fatos. \n",
    "\n",
    "Há muitos aspectos nas habilidades analíticas, mas vamos nos concentrar em cinco pontos essenciais. Eles são:\n",
    "\n",
    "- **Curiosidade**\n",
    "- **Compreensão do contexto**\n",
    "- **Ter mentalidade técnica** \n",
    "- **Design de dados**\n",
    "- **Estratégia de dados** \n",
    "\n",
    "Agora, você pode estar pensando: \"Não tenho esses tipos de habilidades\" ou \"Só tenho algumas delas\". Vamos começar com a curiosidade. \n",
    "\n",
    "> **Curiosidade** é querer aprender algo. Pessoas curiosas costumam buscar novos desafios e experiências. Isso leva ao conhecimento.\n",
    "\n",
    "Agora pense na compreensão do contexto. \n",
    "\n",
    "> **Contexto** é a condição em que algo existe ou acontece. Isso pode ser uma estrutura ou um ambiente. \n",
    "\n",
    "Uma maneira simples de entender contexto é contando até cinco. Um, dois, três, quatro, cinco. Todos esses números existem no contexto de um a cinco. Mas e se um amigo seu disser a você: Um, dois, quatro, cinco, três? Bem, o número três estará fora de contexto. Simples, certo? Mas pode ser um pouco complicado. Há uma boa chance de você nem perceber que o número três está fora de contexto se você não estiver prestando atenção. É por isso que **ouvir e tentar compreender o quadro completo é fundamental**. \n",
    "\n",
    "Na sua própria vida, você coloca tudo em contexto o tempo todo. Por exemplo, vamos pensar sobre sua lista de compras. Se você agrupar itens como farinha, açúcar e fermento, vai adicionar contexto às suas compras. Isso economiza tempo quando você está na parte de bolos do supermercado. Vejamos outro exemplo. Você já embaralhou um baralho de cartas e reparou no curinga? Se você está jogando um jogo que não inclui curingas, identificar essa carta significa que você entende que ela está fora de contexto. Remova-a e você terá muito mais chances de ter um jogo bom. \n",
    "\n",
    "Agora sabemos que você tem curiosidade e a capacidade de compreender contexto. Vamos passar para a terceira habilidade, ter uma mentalidade técnica. \n",
    "\n",
    "> **Uma mentalidade técnica** envolve a capacidade de dividir itens em etapas ou partes menores e trabalhar com elas de maneira ordenada e lógica. \n",
    "\n",
    "Por exemplo, ao pagar suas contas, você provavelmente já divide o processo em etapas menores. Talvez você comece classificando-as pela data de vencimento. Em seguida, pode somá-las e comparar esse valor com o saldo da conta bancária. Isso ajudaria você a ver se consegue pagar as contas agora, ou se precisa esperar até o próximo pagamento. Por fim, você as pagaria. **Quando você pega algo que parece ser uma tarefa única, como pagar contas, e divide isso em etapas menores com um processo ordenado, isso está usando uma mentalidade técnica**. \n",
    "\n",
    "Agora vamos explorar a quarta parte de um conjunto de habilidades analíticas: **o design de dados**.\n",
    "\n",
    "> **Design de dados** é como você organiza as informações. \n",
    "\n",
    "Como analista de dados, o design geralmente tem a ver com um banco de dados real. Mas novamente, as mesmas habilidades podem ser facilmente aplicadas à vida cotidiana. Por exemplo, **pense na maneira como você organiza os contatos em seu telefone**. Na verdade, esse é um tipo de design de dados. Talvez você os liste pelo nome em vez do sobrenome, ou talvez use endereços de e-mail em vez dos nomes. O que você está fazendo é projetar uma lista clara e lógica que permite ligar ou enviar uma mensagem de texto para um contato de maneira rápida e simples. \n",
    "\n",
    "Por último, mas definitivamente não menos importante, está o quinto e último elemento das habilidades analíticas: **a estratégia de dados**. \n",
    "\n",
    "> **Estratégia de dados** é o gerenciamento de pessoas, ferramentas e processos usados na análise de dados. \n",
    "\n",
    "Vamos ver isso em mais detalhes. Você gerencia pessoas certificando-se de que elas saibam usar os dados corretos para encontrar soluções para o problema no qual você está trabalhando. Para processos, trata-se de garantir que o caminho para essa solução seja claro e acessível. Para ferramentas, você garante que a tecnologia certa está sendo usada para o trabalho. Agora, você pode estar duvidando da minha capacidade de dar um exemplo real que demonstre a estratégia de dados. Mas veja isto. **Imagine cortar grama**. \n",
    "\n",
    "- **A primeira etapa** seria ler o manual do cortador de grama. Isso **garante que as pessoas envolvidas, ou você, neste exemplo, saibam como usar os dados disponíveis**. O manual instrui você a colocar óculos de proteção e sapatos fechados. \n",
    "\n",
    "- **A segunda etapa: tornar o processo, o caminho, claro e acessível**. Isso envolverá que você caminhe pelo gramado, pegando grandes gravetos ou pedras que possam atrapalhar o trabalho. \n",
    "\n",
    "- **A terceira etapa**, você verifica o cortador de grama, sua ferramenta, para garantir que ele tem gasolina e óleo suficientes e está em condições de funcionamento para que a grama possa ser cortada com segurança. \n",
    "\n",
    "Aí está. Agora você conhece as cinco habilidades essenciais de um analista de dados."
   ]
  },
  {
   "cell_type": "markdown",
   "id": "a9f1595f",
   "metadata": {},
   "source": []
  }
 ],
 "metadata": {
  "kernelspec": {
   "display_name": "Python 3 (ipykernel)",
   "language": "python",
   "name": "python3"
  },
  "language_info": {
   "codemirror_mode": {
    "name": "ipython",
    "version": 3
   },
   "file_extension": ".py",
   "mimetype": "text/x-python",
   "name": "python",
   "nbconvert_exporter": "python",
   "pygments_lexer": "ipython3",
   "version": "3.9.13"
  }
 },
 "nbformat": 4,
 "nbformat_minor": 5
}
